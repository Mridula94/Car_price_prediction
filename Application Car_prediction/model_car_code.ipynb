{
 "cells": [
  {
   "cell_type": "code",
   "execution_count": 1,
   "metadata": {
    "colab": {
     "base_uri": "https://localhost:8080/"
    },
    "id": "DFio0cLV_yUo",
    "outputId": "53363fb2-e3bf-4e27-d873-8ea61023c25f"
   },
   "outputs": [
    {
     "name": "stdout",
     "output_type": "stream",
     "text": [
      "First few rows of the dataset:\n",
      "   Unnamed: 0       Make      Model  Year  Mileage  Condition     Price\n",
      "0           0       Ford  Silverado  2022    18107  Excellent  19094.75\n",
      "1           1     Toyota  Silverado  2014    13578  Excellent  27321.10\n",
      "2           2  Chevrolet      Civic  2016    46054       Good  23697.30\n",
      "3           3       Ford      Civic  2022    34981  Excellent  18251.05\n",
      "4           4  Chevrolet      Civic  2019    63565  Excellent  19821.85\n"
     ]
    }
   ],
   "source": [
    "import pandas as pd\n",
    "import numpy as np\n",
    "# Load the dataset\n",
    "file_path = 'CarPricesPrediction.csv' \n",
    "car_price_data = pd.read_csv(file_path)\n",
    "\n",
    "# Display the first few rows of the dataset\n",
    "print(\"First few rows of the dataset:\")\n",
    "print(car_price_data.head())\n"
   ]
  },
  {
   "cell_type": "code",
   "execution_count": 2,
   "metadata": {
    "colab": {
     "base_uri": "https://localhost:8080/"
    },
    "id": "yPBjhGIM7vAo",
    "outputId": "67e139e4-86e2-49c0-8a98-9a0b5d9a1405"
   },
   "outputs": [
    {
     "name": "stdout",
     "output_type": "stream",
     "text": [
      "Dataset Information:\n",
      "<class 'pandas.core.frame.DataFrame'>\n",
      "RangeIndex: 1000 entries, 0 to 999\n",
      "Data columns (total 7 columns):\n",
      " #   Column      Non-Null Count  Dtype  \n",
      "---  ------      --------------  -----  \n",
      " 0   Unnamed: 0  1000 non-null   int64  \n",
      " 1   Make        1000 non-null   object \n",
      " 2   Model       1000 non-null   object \n",
      " 3   Year        1000 non-null   int64  \n",
      " 4   Mileage     1000 non-null   int64  \n",
      " 5   Condition   1000 non-null   object \n",
      " 6   Price       1000 non-null   float64\n",
      "dtypes: float64(1), int64(3), object(3)\n",
      "memory usage: 54.8+ KB\n",
      "None\n"
     ]
    }
   ],
   "source": [
    "print(\"Dataset Information:\")\n",
    "print(car_price_data.info())"
   ]
  },
  {
   "cell_type": "code",
   "execution_count": 3,
   "metadata": {
    "id": "C8OKtct98Kng"
   },
   "outputs": [],
   "source": [
    "# Assuming the current year is 2024\n",
    "current_year = 2024\n",
    "car_price_data['Car_Age'] = current_year - car_price_data['Year']"
   ]
  },
  {
   "cell_type": "code",
   "execution_count": 4,
   "metadata": {
    "id": "kREk_xrG8Pg-"
   },
   "outputs": [],
   "source": [
    "car_price_data['Make_Model'] = car_price_data['Make'] + '_' + car_price_data['Model']"
   ]
  },
  {
   "cell_type": "code",
   "execution_count": 5,
   "metadata": {
    "id": "Da-bUMHZ8bNv"
   },
   "outputs": [],
   "source": [
    "condition_mapping = {\n",
    "    'Excellent': 3,\n",
    "    'Good': 2,\n",
    "    'Fair': 1,\n",
    "    'Poor': 0\n",
    "}\n",
    "\n",
    "car_price_data['Condition_Numeric'] = car_price_data['Condition'].map(condition_mapping)"
   ]
  },
  {
   "cell_type": "code",
   "execution_count": 6,
   "metadata": {
    "id": "79-groSR8bTO"
   },
   "outputs": [],
   "source": [
    "bins = [0, 10000, 20000, 30000, 40000, 50000, 60000, 70000, 80000, np.inf]\n",
    "labels = ['0-10k', '10k-20k', '20k-30k', '30k-40k', '40k-50k', '50k-60k', '60k-70k', '70k-80k', '80k+']\n",
    "\n",
    "car_price_data['Mileage_Bracket'] = pd.cut(car_price_data['Mileage'], bins=bins, labels=labels)\n"
   ]
  },
  {
   "cell_type": "code",
   "execution_count": 7,
   "metadata": {
    "colab": {
     "base_uri": "https://localhost:8080/"
    },
    "id": "fq5HK-cP8ywU",
    "outputId": "f1e567bc-b3d3-4ab2-ca19-559960ac2067"
   },
   "outputs": [
    {
     "name": "stdout",
     "output_type": "stream",
     "text": [
      "First few rows of the dataset:\n",
      "   Unnamed: 0       Make      Model  Year  Mileage  Condition     Price  \\\n",
      "0           0       Ford  Silverado  2022    18107  Excellent  19094.75   \n",
      "1           1     Toyota  Silverado  2014    13578  Excellent  27321.10   \n",
      "2           2  Chevrolet      Civic  2016    46054       Good  23697.30   \n",
      "3           3       Ford      Civic  2022    34981  Excellent  18251.05   \n",
      "4           4  Chevrolet      Civic  2019    63565  Excellent  19821.85   \n",
      "\n",
      "   Car_Age        Make_Model  Condition_Numeric Mileage_Bracket  \n",
      "0        2    Ford_Silverado                  3         10k-20k  \n",
      "1       10  Toyota_Silverado                  3         10k-20k  \n",
      "2        8   Chevrolet_Civic                  2         40k-50k  \n",
      "3        2        Ford_Civic                  3         30k-40k  \n",
      "4        5   Chevrolet_Civic                  3         60k-70k  \n"
     ]
    }
   ],
   "source": [
    "print(\"First few rows of the dataset:\")\n",
    "print(car_price_data.head())\n"
   ]
  },
  {
   "cell_type": "code",
   "execution_count": 8,
   "metadata": {
    "colab": {
     "base_uri": "https://localhost:8080/"
    },
    "id": "21AdI8b8AsN_",
    "outputId": "784f9361-94ed-48dc-efa4-a7f583479ade"
   },
   "outputs": [
    {
     "name": "stdout",
     "output_type": "stream",
     "text": [
      "     Unnamed: 0  Make  Model  Year  Mileage  Condition     Price  Car_Age  \\\n",
      "0             0     1      4  2022    18107          0  19094.75        2   \n",
      "1             1     4      4  2014    13578          0  27321.10       10   \n",
      "2             2     0      2  2016    46054          2  23697.30        8   \n",
      "3             3     1      2  2022    34981          0  18251.05        2   \n",
      "4             4     0      2  2019    63565          0  19821.85        5   \n",
      "..          ...   ...    ...   ...      ...        ...       ...      ...   \n",
      "995         995     3      1  2010   149032          0  24548.50       14   \n",
      "996         996     0      3  2014    20608          0  26969.70       10   \n",
      "997         997     1      0  2016   109851          2  20507.55        8   \n",
      "998         998     4      4  2010    11704          2  31414.90       14   \n",
      "999         999     3      4  2017   128390          0  18580.60        7   \n",
      "\n",
      "     Make_Model  Condition_Numeric  Mileage_Bracket  \n",
      "0             9                  3                0  \n",
      "1            24                  3                0  \n",
      "2             2                  2                3  \n",
      "3             7                  3                2  \n",
      "4             2                  3                5  \n",
      "..          ...                ...              ...  \n",
      "995          16                  3                7  \n",
      "996           3                  3                1  \n",
      "997           5                  2                7  \n",
      "998          24                  2                0  \n",
      "999          19                  3                7  \n",
      "\n",
      "[1000 rows x 11 columns]\n"
     ]
    }
   ],
   "source": [
    "from sklearn.preprocessing import LabelEncoder\n",
    "\n",
    "# Columns to encode\n",
    "columns_to_encode = ['Make', 'Model', 'Condition', 'Make_Model', 'Mileage_Bracket']\n",
    "\n",
    "# Initialize LabelEncoder\n",
    "encoder = LabelEncoder()\n",
    "\n",
    "# Apply LabelEncoder to each column\n",
    "for column in columns_to_encode:\n",
    "    car_price_data[column] = encoder.fit_transform(car_price_data[column])\n",
    "\n",
    "# Display the dataset with encoded features\n",
    "print(car_price_data)"
   ]
  },
  {
   "cell_type": "code",
   "execution_count": 9,
   "metadata": {
    "colab": {
     "base_uri": "https://localhost:8080/"
    },
    "id": "DkvP68ajAsQa",
    "outputId": "ea2988fc-fdd5-4af0-9e5d-4bcd14463b15"
   },
   "outputs": [
    {
     "name": "stdout",
     "output_type": "stream",
     "text": [
      "Updated Dataset Information:\n",
      "<class 'pandas.core.frame.DataFrame'>\n",
      "RangeIndex: 1000 entries, 0 to 999\n",
      "Data columns (total 11 columns):\n",
      " #   Column             Non-Null Count  Dtype  \n",
      "---  ------             --------------  -----  \n",
      " 0   Unnamed: 0         1000 non-null   int64  \n",
      " 1   Make               1000 non-null   int32  \n",
      " 2   Model              1000 non-null   int32  \n",
      " 3   Year               1000 non-null   int64  \n",
      " 4   Mileage            1000 non-null   int64  \n",
      " 5   Condition          1000 non-null   int32  \n",
      " 6   Price              1000 non-null   float64\n",
      " 7   Car_Age            1000 non-null   int64  \n",
      " 8   Make_Model         1000 non-null   int32  \n",
      " 9   Condition_Numeric  1000 non-null   int64  \n",
      " 10  Mileage_Bracket    1000 non-null   int32  \n",
      "dtypes: float64(1), int32(5), int64(5)\n",
      "memory usage: 66.5 KB\n",
      "None\n"
     ]
    }
   ],
   "source": [
    "# Display updated dataset info\n",
    "print(\"Updated Dataset Information:\")\n",
    "print(car_price_data.info())"
   ]
  },
  {
   "cell_type": "code",
   "execution_count": 10,
   "metadata": {},
   "outputs": [],
   "source": [
    "from sklearn.model_selection import train_test_split\n",
    "\n",
    "# Define features and target variable\n",
    "X = car_price_data[['Make', 'Model', 'Year', 'Mileage', 'Condition', 'Car_Age', 'Make_Model', 'Condition_Numeric', 'Mileage_Bracket']]\n",
    "y = car_price_data['Price']\n",
    "\n",
    "# Split the data into training and testing sets\n",
    "X_train, X_test, y_train, y_test = train_test_split(X, y, test_size=0.2, random_state=42)"
   ]
  },
  {
   "cell_type": "code",
   "execution_count": 11,
   "metadata": {},
   "outputs": [
    {
     "name": "stdout",
     "output_type": "stream",
     "text": [
      "XGBoost - MAE: 110.632810546875 MSE: 21120.408091175086 R2: 0.9989576946301811\n"
     ]
    }
   ],
   "source": [
    "import xgboost as xgb\n",
    "from sklearn.metrics import mean_absolute_error, mean_squared_error, r2_score\n",
    "\n",
    "# Train the XGBoost model\n",
    "xgb_model = xgb.XGBRegressor()\n",
    "xgb_model.fit(X_train, y_train)\n",
    "\n",
    "# Make predictions\n",
    "xgb_predictions = xgb_model.predict(X_test)\n",
    "\n",
    "# Evaluation metrics\n",
    "xgb_mae = mean_absolute_error(y_test, xgb_predictions)\n",
    "xgb_mse = mean_squared_error(y_test, xgb_predictions)\n",
    "xgb_r2 = r2_score(y_test, xgb_predictions)\n",
    "\n",
    "print(\"XGBoost - MAE:\", xgb_mae, \"MSE:\", xgb_mse, \"R2:\", xgb_r2)"
   ]
  },
  {
   "cell_type": "code",
   "execution_count": 12,
   "metadata": {},
   "outputs": [
    {
     "name": "stdout",
     "output_type": "stream",
     "text": [
      "GBM - MAE: 115.22067694810518 MSE: 21640.79357382249 R2: 0.9989320132806259\n"
     ]
    }
   ],
   "source": [
    "from sklearn.ensemble import GradientBoostingRegressor\n",
    "\n",
    "# Train the Gradient Boosting model\n",
    "gbm_model = GradientBoostingRegressor()\n",
    "gbm_model.fit(X_train, y_train)\n",
    "\n",
    "# Make predictions\n",
    "gbm_predictions = gbm_model.predict(X_test)\n",
    "\n",
    "# Evaluation metrics\n",
    "gbm_mae = mean_absolute_error(y_test, gbm_predictions)\n",
    "gbm_mse = mean_squared_error(y_test, gbm_predictions)\n",
    "gbm_r2 = r2_score(y_test, gbm_predictions)\n",
    "\n",
    "print(\"GBM - MAE:\", gbm_mae, \"MSE:\", gbm_mse, \"R2:\", gbm_r2)\n"
   ]
  },
  {
   "cell_type": "code",
   "execution_count": 13,
   "metadata": {
    "scrolled": true
   },
   "outputs": [
    {
     "name": "stdout",
     "output_type": "stream",
     "text": [
      "Lasso - MAE: 0.2477177769262653 MSE: 0.08044984583077161 R2: 0.9999999960297498\n"
     ]
    }
   ],
   "source": [
    "from sklearn.linear_model import Lasso\n",
    " \n",
    "# Train the Lasso model\n",
    "lasso_model = Lasso()\n",
    "lasso_model.fit(X_train, y_train)\n",
    "\n",
    "# Make predictions\n",
    "lasso_predictions = lasso_model.predict(X_test)\n",
    "\n",
    "# Evaluation metrics\n",
    "lasso_mae = mean_absolute_error(y_test, lasso_predictions)\n",
    "lasso_mse = mean_squared_error(y_test, lasso_predictions)\n",
    "lasso_r2 = r2_score(y_test, lasso_predictions)\n",
    "\n",
    "print(\"Lasso - MAE:\", lasso_mae, \"MSE:\", lasso_mse, \"R2:\", lasso_r2)\n"
   ]
  },
  {
   "cell_type": "code",
   "execution_count": 14,
   "metadata": {},
   "outputs": [
    {
     "name": "stdout",
     "output_type": "stream",
     "text": [
      "Linear Regression - MAE: 0.05969176719171628 MSE: 0.004677904817615274 R2: 0.9999999997691424\n"
     ]
    }
   ],
   "source": [
    "from sklearn.linear_model import LinearRegression\n",
    "\n",
    "# Train the Linear Regression model\n",
    "linear_model = LinearRegression()\n",
    "linear_model.fit(X_train, y_train)\n",
    "\n",
    "# Make predictions\n",
    "linear_predictions = linear_model.predict(X_test)\n",
    "\n",
    "# Evaluation metrics\n",
    "linear_mae = mean_absolute_error(y_test, linear_predictions)\n",
    "linear_mse = mean_squared_error(y_test, linear_predictions)\n",
    "linear_r2 = r2_score(y_test, linear_predictions)\n",
    "\n",
    "print(\"Linear Regression - MAE:\", linear_mae, \"MSE:\", linear_mse, \"R2:\", linear_r2)\n"
   ]
  },
  {
   "cell_type": "code",
   "execution_count": 15,
   "metadata": {},
   "outputs": [
    {
     "name": "stdout",
     "output_type": "stream",
     "text": [
      "Random Forest - MAE: 100.18288999999976 MSE: 18211.91761405033 R2: 0.9991012304572015\n"
     ]
    }
   ],
   "source": [
    "from sklearn.ensemble import RandomForestRegressor\n",
    "\n",
    "# Train the Random Forest model\n",
    "rf_model = RandomForestRegressor()\n",
    "rf_model.fit(X_train, y_train)\n",
    "\n",
    "# Make predictions\n",
    "rf_predictions = rf_model.predict(X_test)\n",
    "\n",
    "# Evaluation metrics\n",
    "rf_mae = mean_absolute_error(y_test, rf_predictions)\n",
    "rf_mse = mean_squared_error(y_test, rf_predictions)\n",
    "rf_r2 = r2_score(y_test, rf_predictions)\n",
    "\n",
    "print(\"Random Forest - MAE:\", rf_mae, \"MSE:\", rf_mse, \"R2:\", rf_r2)\n"
   ]
  },
  {
   "cell_type": "code",
   "execution_count": 16,
   "metadata": {},
   "outputs": [
    {
     "data": {
      "image/png": "[encoded data removed]",
      "text/plain": [
       "<Figure size 1000x600 with 1 Axes>"
      ]
     },
     "metadata": {},
     "output_type": "display_data"
    }
   ],
   "source": [
    "import matplotlib.pyplot as plt\n",
    "import numpy as np\n",
    "\n",
    "# Collect evaluation metrics\n",
    "models = ['XGBoost', 'GBM', 'Lasso', 'Linear', 'Random Forest']\n",
    "mae_scores = [xgb_mae, gbm_mae, lasso_mae, linear_mae, rf_mae]\n",
    "mse_scores = [xgb_mse, gbm_mse, lasso_mse, linear_mse, rf_mse]\n",
    "r2_scores = [xgb_r2, gbm_r2, lasso_r2, linear_r2, rf_r2]\n",
    "\n",
    "# MAE Plot\n",
    "fig, ax = plt.subplots(figsize=(10, 6))\n",
    "\n",
    "bar = ax.bar(models, mae_scores, color='skyblue')\n",
    "\n",
    "ax.set_xlabel('Models')\n",
    "ax.set_ylabel('MAE')\n",
    "ax.set_title('Model Comparison - Mean Absolute Error (MAE)')\n",
    "\n",
    "# Adding value labels on bars\n",
    "for i in range(len(mae_scores)):\n",
    "    ax.text(i, mae_scores[i] + 0.02, round(mae_scores[i], 2), ha='center')\n",
    "\n",
    "plt.show()\n"
   ]
  },
  {
   "cell_type": "code",
   "execution_count": 17,
   "metadata": {},
   "outputs": [
    {
     "data": {
      "image/png": "[encoded data removed]",
      "text/plain": [
       "<Figure size 1000x600 with 1 Axes>"
      ]
     },
     "metadata": {},
     "output_type": "display_data"
    }
   ],
   "source": [
    "# MSE Plot\n",
    "fig, ax = plt.subplots(figsize=(10, 6))\n",
    "\n",
    "bar = ax.bar(models, mse_scores, color='salmon')\n",
    "\n",
    "ax.set_xlabel('Models')\n",
    "ax.set_ylabel('MSE')\n",
    "ax.set_title('Model Comparison - Mean Squared Error (MSE)')\n",
    "\n",
    "# Adding value labels on bars\n",
    "for i in range(len(mse_scores)):\n",
    "    ax.text(i, mse_scores[i] + 0.02, round(mse_scores[i], 2), ha='center')\n",
    "\n",
    "plt.show()\n"
   ]
  },
  {
   "cell_type": "code",
   "execution_count": 18,
   "metadata": {},
   "outputs": [
    {
     "data": {
      "image/png": "[encoded data removed]",
      "text/plain": [
       "<Figure size 1000x600 with 1 Axes>"
      ]
     },
     "metadata": {},
     "output_type": "display_data"
    }
   ],
   "source": [
    "# R² Plot\n",
    "fig, ax = plt.subplots(figsize=(10, 6))\n",
    "\n",
    "bar = ax.bar(models, r2_scores, color='lightgreen')\n",
    "\n",
    "ax.set_xlabel('Models')\n",
    "ax.set_ylabel('R²')\n",
    "ax.set_title('Model Comparison - R-squared (R²)')\n",
    "\n",
    "# Adding value labels on bars\n",
    "for i in range(len(r2_scores)):\n",
    "    ax.text(i, r2_scores[i] + 0.02, round(r2_scores[i], 2), ha='center')\n",
    "\n",
    "plt.show()\n"
   ]
  },
  {
   "cell_type": "code",
   "execution_count": 19,
   "metadata": {},
   "outputs": [
    {
     "data": {
      "text/plain": [
       "['linear_regression_model.pkl']"
      ]
     },
     "execution_count": 19,
     "metadata": {},
     "output_type": "execute_result"
    }
   ],
   "source": [
    "import joblib\n",
    "from sklearn.linear_model import LinearRegression\n",
    "\n",
    "# Assuming the model is already trained and named linear_model\n",
    "joblib.dump(linear_model, 'linear_regression_model.pkl')\n"
   ]
  },
  {
   "cell_type": "code",
   "execution_count": null,
   "metadata": {},
   "outputs": [],
   "source": []
  }
 ],
 "metadata": {
  "colab": {
   "provenance": []
  },
  "kernelspec": {
   "display_name": "Python 3 (ipykernel)",
   "language": "python",
   "name": "python3"
  },
  "language_info": {
   "codemirror_mode": {
    "name": "ipython",
    "version": 3
   },
   "file_extension": ".py",
   "mimetype": "text/x-python",
   "name": "python",
   "nbconvert_exporter": "python",
   "pygments_lexer": "ipython3",
   "version": "3.11.7"
  }
 },
 "nbformat": 4,
 "nbformat_minor": 4
}
